{
  "nbformat": 4,
  "nbformat_minor": 0,
  "metadata": {
    "colab": {
      "provenance": [],
      "authorship_tag": "ABX9TyNJL3VhzgrSuiBKAd74TlST",
      "include_colab_link": true
    },
    "kernelspec": {
      "name": "python3",
      "display_name": "Python 3"
    },
    "language_info": {
      "name": "python"
    }
  },
  "cells": [
    {
      "cell_type": "markdown",
      "metadata": {
        "id": "view-in-github",
        "colab_type": "text"
      },
      "source": [
        "<a href=\"https://colab.research.google.com/github/AbdullahKD/Planning-Search-and-AI/blob/main/PSAI_Assignment_.ipynb\" target=\"_parent\"><img src=\"https://colab.research.google.com/assets/colab-badge.svg\" alt=\"Open In Colab\"/></a>"
      ]
    },
    {
      "cell_type": "markdown",
      "source": [
        "The provided image depicts a network with nodes labeled 'S' through 'F', each possessing a unique 'h' value representing its corresponding height. Arrows connecting the nodes signify directional flow, with associated numerical values indicating the cost of traversing the link.\n",
        "\n",
        "Nodes:\n",
        "\n",
        "* S: The starting node with a height of 10.\n",
        "* A: Connected to 'S' and 'H' with costs 3 and 4 respectively.\n",
        "* B: Connected to 'S' and 'C' with costs 2 and 4 respectively.\n",
        "* C: Connected to 'A' and 'B' with costs 3 and 4 respectively.\n",
        "* G: Connected to 'A' and 'D' with costs 2 and 4 respectively.\n",
        "* H: Connected to 'A' and 'C' with costs 4 and 3 respectively.\n",
        "* D: Connected to 'G' and 'H' with costs 4 and 4 respectively.\n",
        "* E: Connected to 'G' and 'D' with costs 5 and 2 respectively.\n",
        "* F: Connected to 'E' and 'D' with costs 5 and 3 respectively.\n",
        "\n",
        "\n"
      ],
      "metadata": {
        "id": "BLYBPf2ORQeE"
      }
    },
    {
      "cell_type": "markdown",
      "source": [
        "**TASK 1**\n",
        "\n",
        "**Question 1**\n",
        "\n",
        "Depth-First Search (DFS) Algorithm\n",
        "\n",
        "Path: S - A - C - B - D - E - F\n",
        "\n",
        "Explanation:\n",
        "\n",
        "Start: The search begins at node S.\n",
        "\n",
        "Expansion:\n",
        "\n",
        "S is expanded, and its successors are A and B.\n",
        "\n",
        "A is expanded, and its successor is C.\n",
        "\n",
        "C is expanded, and its successor is B.\n",
        "\n",
        "B is expanded, and its successor is D.\n",
        "\n",
        "D is expanded, and its successor is E.\n",
        "\n",
        "E is expanded, and its successor is F.\n",
        "\n",
        "Goal: F is the goal state, so the search stops.\n"
      ],
      "metadata": {
        "id": "K9qURq64Rt1l"
      }
    },
    {
      "cell_type": "code",
      "execution_count": null,
      "metadata": {
        "colab": {
          "base_uri": "https://localhost:8080/"
        },
        "id": "Avu9u7TgNJxX",
        "outputId": "fcbe5f55-8f1d-4d28-93a6-54423ce5a786"
      },
      "outputs": [
        {
          "output_type": "stream",
          "name": "stdout",
          "text": [
            "Solution path: {'S', 'H', 'F', 'C', 'D'}\n"
          ]
        }
      ],
      "source": [
        "def dfs(graph, start, goal):\n",
        "    visited = set()\n",
        "    stack = [start]\n",
        "\n",
        "    while stack:\n",
        "        node = stack.pop()\n",
        "        if node not in visited:\n",
        "            visited.add(node)\n",
        "            if node == goal:\n",
        "                return visited\n",
        "\n",
        "            # Expanding successors in alphabetical order\n",
        "            successors = sorted(graph[node])\n",
        "            for neighbor in successors:\n",
        "                if neighbor not in visited:\n",
        "                    stack.append(neighbor)\n",
        "\n",
        "    return visited\n",
        "\n",
        "graph = {\n",
        "    'S': ['A', 'B', 'C'],\n",
        "    'A': ['C', 'G', 'H'],\n",
        "    'B': [],\n",
        "    'C': ['H'],\n",
        "    'G': ['E'],\n",
        "    'E': [],\n",
        "    'H': ['C', 'D'],\n",
        "    'D': ['F'],\n",
        "    'F': []\n",
        "}\n",
        "\n",
        "start = 'S'\n",
        "goal = 'F'\n",
        "\n",
        "solution = dfs(graph, start, goal)\n",
        "print(\"Solution path:\", solution)"
      ]
    },
    {
      "cell_type": "markdown",
      "source": [
        "**Question 2**\n",
        "\n",
        "Breadth-First Search (BFS) Algorithm\n",
        "\n",
        "Path: S - A - G - E - F\n",
        "\n",
        "Explanation:\n",
        "\n",
        "Start: The search begins at node S.\n",
        "\n",
        "Expansion:\n",
        "\n",
        "S is expanded, and its successors are A and B.\n",
        "\n",
        "A is expanded, and its successor is G.\n",
        "\n",
        "B is expanded, and its successors are C and D.\n",
        "\n",
        "G is expanded, and its successor is E.\n",
        "\n",
        "C, D, and E are expanded, and their successors are F.\n",
        "\n",
        "Goal: F is the goal state, so the search stops."
      ],
      "metadata": {
        "id": "waOhvgXtTZ4K"
      }
    },
    {
      "cell_type": "code",
      "source": [
        "from collections import deque\n",
        "\n",
        "def bfs(graph, start, goal):\n",
        "    queue = deque([start])\n",
        "    visited = {start}\n",
        "    parent = {start: None}\n",
        "\n",
        "    while queue:\n",
        "        node = queue.popleft()\n",
        "\n",
        "        if node == goal:\n",
        "            break\n",
        "\n",
        "        for successor in sorted(graph[node]):\n",
        "            if successor not in visited:\n",
        "                visited.add(successor)\n",
        "                parent[successor] = node\n",
        "                queue.append(successor)\n",
        "\n",
        "    # Reconstruct path\n",
        "    path = []\n",
        "    while node is not None:\n",
        "        path.append(node)\n",
        "        node = parent[node]\n",
        "    return path[::-1]\n",
        "\n",
        "# Example graph representation\n",
        "graph = {\n",
        "    'S': ['A', 'B'],\n",
        "    'A': ['C', 'G', 'H'],\n",
        "    'B': [],\n",
        "    'C': [],\n",
        "    'G': ['E', 'D'],\n",
        "    'H': [],\n",
        "    'E': ['F'],\n",
        "    'D': [],\n",
        "    'F': []\n",
        "}\n",
        "\n",
        "# Call the BFS function\n",
        "solution_path = bfs(graph, 'S', 'F')\n",
        "print(\"Solution Path from S to F:\", solution_path)"
      ],
      "metadata": {
        "colab": {
          "base_uri": "https://localhost:8080/"
        },
        "id": "vTN8tqx0VhLg",
        "outputId": "ff15fbca-59ee-4e2f-dafc-ea1ae84edb5d"
      },
      "execution_count": null,
      "outputs": [
        {
          "output_type": "stream",
          "name": "stdout",
          "text": [
            "Solution Path from S to F: ['S', 'A', 'G', 'E', 'F']\n"
          ]
        }
      ]
    },
    {
      "cell_type": "markdown",
      "source": [
        "**Question 3**\n",
        "\n",
        "Solution Path Using Uniform-Cost Search (UCS)\n",
        "\n",
        "S -> A -> G -> D -> F\n",
        "\n",
        "This path is generated by UCS as it explores the nodes with the lowest cost and then the node that has the least cost to reach the goal node is selected."
      ],
      "metadata": {
        "id": "dRz4Px_tWg5H"
      }
    },
    {
      "cell_type": "code",
      "source": [
        "graph = {\n",
        "    'S': {'A': 3, 'B': 2, 'C': 5},\n",
        "    'A': {'C': 3, 'G': 2, 'H': 4},\n",
        "    'B': {'C': 4},\n",
        "    'C': {'H': 3},\n",
        "    'G': {'E': 5, 'D': 4},\n",
        "    'H': {'D': 4, 'E': 2},\n",
        "    'D': {'F': 3},\n",
        "    'E': {},\n",
        "    'F': {}\n",
        "}\n",
        "\n",
        "import heapq\n",
        "\n",
        "def uniform_cost_search(graph, start, goal):\n",
        "    priority_queue = []\n",
        "    heapq.heappush(priority_queue, (0, start))\n",
        "    visited = set()\n",
        "    came_from = {}\n",
        "    cost_so_far = {start: 0}\n",
        "\n",
        "    while priority_queue:\n",
        "        current_cost, current_node = heapq.heappop(priority_queue)\n",
        "\n",
        "        if current_node in visited:\n",
        "            continue\n",
        "\n",
        "        visited.add(current_node)\n",
        "\n",
        "        if current_node == goal:\n",
        "            break\n",
        "\n",
        "        for neighbor, cost in graph[current_node].items():\n",
        "            new_cost = current_cost + cost\n",
        "            if neighbor not in cost_so_far or new_cost < cost_so_far[neighbor]:\n",
        "                cost_so_far[neighbor] = new_cost\n",
        "                priority_queue.append((new_cost, neighbor))\n",
        "                came_from[neighbor] = current_node\n",
        "\n",
        "    path = []\n",
        "    current = goal\n",
        "    while current in came_from:\n",
        "        path.append(current)\n",
        "        current = came_from[current]\n",
        "    path.append(start)\n",
        "    path.reverse()\n",
        "\n",
        "    return path\n",
        "\n",
        "# Example usage\n",
        "solution_path = uniform_cost_search(graph, 'S', 'F')\n",
        "print(\"Solution Path:\", solution_path)"
      ],
      "metadata": {
        "colab": {
          "base_uri": "https://localhost:8080/"
        },
        "id": "CsOWFs6RWlyS",
        "outputId": "beeb012f-75ec-45b2-dec1-2edcab99c4a3"
      },
      "execution_count": null,
      "outputs": [
        {
          "output_type": "stream",
          "name": "stdout",
          "text": [
            "Solution Path: ['S', 'A', 'G', 'D', 'F']\n"
          ]
        }
      ]
    },
    {
      "cell_type": "markdown",
      "source": [
        "**Question 4**\n",
        "\n",
        "Solution Path from S to F using Greedy Best-First Search\n",
        "\n",
        "**Final Path**\n",
        "\n",
        "Path: S -> A -> G -> E -> F\n",
        "\n",
        "Total Cost: 3 + 2 + 5 + 5 = 15\n",
        "\n",
        "This path demonstrates the efficiency of the Greedy Best-First Search in navigating through the graph based on heuristic values.\n"
      ],
      "metadata": {
        "id": "AcjWRMivYAow"
      }
    },
    {
      "cell_type": "code",
      "source": [
        "import heapq\n",
        "\n",
        "# Define the graph as an adjacency list with heuristic values\n",
        "graph = {\n",
        "    'S': [(3, 'A'), (5, 'B')],\n",
        "    'A': [(2, 'G'), (4, 'H'), (3, 'C')],\n",
        "    'B': [(4, 'C')],\n",
        "    'C': [(3, 'H')],\n",
        "    'G': [(5, 'E'), (4, 'D')],\n",
        "    'H': [(4, 'D'), (3, 'E')],\n",
        "    'D': [(3, 'F')],\n",
        "    'E': [(5, 'F')],\n",
        "    'F': []\n",
        "}\n",
        "\n",
        "# Define the heuristic function using the \"h\" values\n",
        "heuristic = {\n",
        "    'S': 10,\n",
        "    'A': 8,\n",
        "    'B': 9,\n",
        "    'C': 7,\n",
        "    'G': 6,\n",
        "    'H': 6,\n",
        "    'D': 4,\n",
        "    'E': 3,\n",
        "    'F': 0\n",
        "}\n",
        "\n",
        "def greedy_best_first_search(start, goal):\n",
        "    open_list = []\n",
        "    heapq.heappush(open_list, (heuristic[start], start))\n",
        "    came_from = {}\n",
        "\n",
        "    while open_list:\n",
        "        current = heapq.heappop(open_list)[1]\n",
        "\n",
        "        if current == goal:\n",
        "            break\n",
        "\n",
        "        for cost, neighbor in graph[current]:\n",
        "            if neighbor not in came_from:\n",
        "                came_from[neighbor] = current\n",
        "                heapq.heappush(open_list, (heuristic[neighbor], neighbor))\n",
        "\n",
        "    # Reconstruct the path\n",
        "    path = []\n",
        "    while current in came_from:\n",
        "        path.append(current)\n",
        "        current = came_from[current]\n",
        "    path.append(start)\n",
        "    path.reverse()\n",
        "\n",
        "    return path\n",
        "\n",
        "# Execute the search\n",
        "solution_path = greedy_best_first_search('S', 'F')\n",
        "print(\"Solution Path:\", \" -> \".join(solution_path))"
      ],
      "metadata": {
        "colab": {
          "base_uri": "https://localhost:8080/"
        },
        "id": "gRfDJKChb6xy",
        "outputId": "5cec7da0-9d90-409d-bd7b-d13ffb104a95"
      },
      "execution_count": null,
      "outputs": [
        {
          "output_type": "stream",
          "name": "stdout",
          "text": [
            "Solution Path: S -> A -> G -> E -> F\n"
          ]
        }
      ]
    },
    {
      "cell_type": "markdown",
      "source": [
        "**TASK 3**\n",
        "\n",
        "**Implementing Basic Search Algorithms**\n",
        "\n",
        "Performance Comparison of BFS and DFS\n",
        "\n",
        "**Time Complexity**\n",
        "\n",
        "**Breadth-First Search (BFS):**\n",
        "\n",
        "Time Complexity: (O(V + E)), where (V) is the number of vertices (cells) and (E) is the number of edges (possible moves).\n",
        "BFS explores all neighbors at the current depth, which can lead to longer execution times in dense mazes.\n",
        "\n",
        "**Depth-First Search (DFS):**\n",
        "\n",
        "Time Complexity: (O(V + E)), similar to BFS, but performance varies based on maze structure.\n",
        "DFS explores as far as possible down one branch before backtracking, which can yield faster solutions in sparse mazes.\n",
        "\n",
        "**Memory Usage**\n",
        "\n",
        "**BFS:**\n",
        "\n",
        "Memory Complexity: (O(V)), as it stores all nodes at the current level in a queue, leading to high memory usage in wide mazes.\n",
        "\n",
        "**DFS:**\n",
        "\n",
        "Memory Complexity: (O(V)), using a stack or recursion. It can be more memory-efficient in scenarios with many dead ends but can also consume significant memory in long paths.\n",
        "\n",
        "**Performance for Different Maze Sizes**\n",
        "\n",
        "\n",
        "Small Mazes: Both algorithms perform similarly in time and memory.\n",
        "\n",
        "Medium Mazes: BFS may take longer due to level-order exploration, while DFS may find paths faster if it quickly encounters long routes.\n",
        "\n",
        "Large Mazes: BFS can become impractical due to high memory usage, while DFS may be more efficient in time and memory if it avoids deep paths.\n",
        "\n",
        "**Short Report on Algorithm Behavior and Effectiveness**\n",
        "\n",
        "**Breadth-First Search (BFS)**\n",
        "\n",
        "Behavior: Explores paths level by level, guaranteeing the shortest path in unweighted mazes.\n",
        "\n",
        "Effectiveness: Best for finding the shortest path in uniform mazes with many open paths, but can be memory-intensive.\n",
        "\n",
        "**Depth-First Search (DFS)**\n",
        "\n",
        "Behavior: Explores as far as possible down one path before backtracking, not guaranteeing the shortest path.\n",
        "\n",
        "Effectiveness: Ideal for mazes with long paths or fewer branches, and when memory usage is a concern. However, it may take longer in complex mazes.\n",
        "\n",
        "**Conclusion**\n",
        "\n",
        "BFS is suitable for finding the shortest path but can be memory-heavy, while DFS can be faster and more memory-efficient in certain scenarios but does not guarantee the shortest path. The choice between them depends on the maze's structure and specific problem requirements.\n",
        "\n",
        "\n",
        "\n",
        "\n"
      ],
      "metadata": {
        "id": "_3xcr__pfceU"
      }
    },
    {
      "cell_type": "code",
      "source": [
        "import time\n",
        "from collections import deque\n",
        "\n",
        "def bfs(maze, start, end):\n",
        "    rows, cols = len(maze), len(maze[0])\n",
        "    queue = deque([start])\n",
        "    visited = set()\n",
        "    visited.add(start)\n",
        "    parent = {start: None}\n",
        "\n",
        "    directions = [(0, 1), (1, 0), (0, -1), (-1, 0)]  # Right, Down, Left, Up\n",
        "\n",
        "    while queue:\n",
        "        current = queue.popleft()\n",
        "\n",
        "        if current == end:\n",
        "            return reconstruct_path(parent, start, end)\n",
        "\n",
        "        for direction in directions:\n",
        "            neighbor = (current[0] + direction[0], current[1] + direction[1])\n",
        "            if (0 <= neighbor[0] < rows and\n",
        "                0 <= neighbor[1] < cols and\n",
        "                maze[neighbor[0]][neighbor[1]] == 0 and\n",
        "                neighbor not in visited):\n",
        "\n",
        "                visited.add(neighbor)\n",
        "                parent[neighbor] = current\n",
        "                queue.append(neighbor)\n",
        "\n",
        "    return None  # No path found\n",
        "\n",
        "\n",
        "def reconstruct_path(parent, start, end):\n",
        "    path = []\n",
        "    current = end\n",
        "    while current is not None:\n",
        "        path.append(current)\n",
        "        current = parent[current]\n",
        "    path.reverse()\n",
        "    return path\n",
        "\n",
        "# complex maze\n",
        "maze = [\n",
        "    [0, 1, 0, 0, 0, 1, 0],\n",
        "    [0, 1, 0, 1, 0, 1, 0],\n",
        "    [0, 0, 0, 1, 0, 0, 0],\n",
        "    [1, 1, 0, 1, 1, 1, 0],\n",
        "    [0, 0, 0, 0, 0, 1, 0],\n",
        "    [1, 1, 1, 1, 0, 1, 0],\n",
        "    [0, 0, 0, 0, 0, 0, 0]\n",
        "]\n",
        "\n",
        "start = (0, 0)\n",
        "end = (6, 6)\n",
        "\n",
        "# Measure BFS execution time\n",
        "start_time = time.time()\n",
        "bfs_path = bfs(maze, start, end)\n",
        "bfs_time = time.time() - start_time\n",
        "print(\"BFS Path:\", bfs_path)\n",
        "print(\"BFS Time: {:.6f} seconds\".format(bfs_time))\n",
        "\n",
        "# Measure DFS execution time\n",
        "start_time = time.time()\n",
        "dfs_path = dfs(maze, start, end)\n",
        "dfs_time = time.time() - start_time\n",
        "print(\"DFS Path:\", dfs_path)\n",
        "print(\"DFS Time: {:.6f} seconds\".format(dfs_time))"
      ],
      "metadata": {
        "colab": {
          "base_uri": "https://localhost:8080/"
        },
        "id": "hVS_AQbMhBT0",
        "outputId": "90271a81-1655-4194-d945-0fa4cec2658f"
      },
      "execution_count": null,
      "outputs": [
        {
          "output_type": "stream",
          "name": "stdout",
          "text": [
            "BFS Path: [(0, 0), (1, 0), (2, 0), (2, 1), (2, 2), (3, 2), (4, 2), (4, 3), (4, 4), (5, 4), (6, 4), (6, 5), (6, 6)]\n",
            "BFS Time: 0.000161 seconds\n",
            "DFS Path: [(0, 0), (1, 0), (2, 0), (2, 1), (2, 2), (1, 2), (0, 2), (0, 3), (0, 4), (1, 4), (2, 4), (2, 5), (2, 6), (3, 6), (4, 6), (5, 6), (6, 6)]\n",
            "DFS Time: 0.000170 seconds\n"
          ]
        }
      ]
    }
  ]
}