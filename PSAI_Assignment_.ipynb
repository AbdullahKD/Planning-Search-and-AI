{
  "nbformat": 4,
  "nbformat_minor": 0,
  "metadata": {
    "colab": {
      "provenance": [],
      "authorship_tag": "ABX9TyN1UiH3iZDSP4PafwcOTuP7",
      "include_colab_link": true
    },
    "kernelspec": {
      "name": "python3",
      "display_name": "Python 3"
    },
    "language_info": {
      "name": "python"
    }
  },
  "cells": [
    {
      "cell_type": "markdown",
      "metadata": {
        "id": "view-in-github",
        "colab_type": "text"
      },
      "source": [
        "<a href=\"https://colab.research.google.com/github/AbdullahKD/Planning-Search-and-AI/blob/main/PSAI_Assignment_.ipynb\" target=\"_parent\"><img src=\"https://colab.research.google.com/assets/colab-badge.svg\" alt=\"Open In Colab\"/></a>"
      ]
    },
    {
      "cell_type": "markdown",
      "source": [
        "The provided image depicts a network with nodes labeled 'S' through 'F', each possessing a unique 'h' value representing its corresponding height. Arrows connecting the nodes signify directional flow, with associated numerical values indicating the cost of traversing the link.\n",
        "\n",
        "Nodes:\n",
        "\n",
        "* S: The starting node with a height of 10.\n",
        "* A: Connected to 'S' and 'H' with costs 3 and 4 respectively.\n",
        "* B: Connected to 'S' and 'C' with costs 2 and 4 respectively.\n",
        "* C: Connected to 'A' and 'B' with costs 3 and 4 respectively.\n",
        "* G: Connected to 'A' and 'D' with costs 2 and 4 respectively.\n",
        "* H: Connected to 'A' and 'C' with costs 4 and 3 respectively.\n",
        "* D: Connected to 'G' and 'H' with costs 4 and 4 respectively.\n",
        "* E: Connected to 'G' and 'D' with costs 5 and 2 respectively.\n",
        "* F: Connected to 'E' and 'D' with costs 5 and 3 respectively.\n",
        "\n",
        "\n"
      ],
      "metadata": {
        "id": "BLYBPf2ORQeE"
      }
    },
    {
      "cell_type": "markdown",
      "source": [
        "**TASK 1**\n",
        "\n",
        "**Question 1**\n",
        "\n",
        "Depth-First Search (DFS) Algorithm\n",
        "\n",
        "Path: S - A - C - B - D - E - F\n",
        "\n",
        "Explanation:\n",
        "\n",
        "Start: The search begins at node S.\n",
        "\n",
        "Expansion:\n",
        "\n",
        "S is expanded, and its successors are A and B.\n",
        "\n",
        "A is expanded, and its successor is C.\n",
        "\n",
        "C is expanded, and its successor is B.\n",
        "\n",
        "B is expanded, and its successor is D.\n",
        "\n",
        "D is expanded, and its successor is E.\n",
        "\n",
        "E is expanded, and its successor is F.\n",
        "\n",
        "Goal: F is the goal state, so the search stops.\n"
      ],
      "metadata": {
        "id": "K9qURq64Rt1l"
      }
    },
    {
      "cell_type": "code",
      "execution_count": null,
      "metadata": {
        "colab": {
          "base_uri": "https://localhost:8080/"
        },
        "id": "Avu9u7TgNJxX",
        "outputId": "fcbe5f55-8f1d-4d28-93a6-54423ce5a786"
      },
      "outputs": [
        {
          "output_type": "stream",
          "name": "stdout",
          "text": [
            "Solution path: {'S', 'H', 'F', 'C', 'D'}\n"
          ]
        }
      ],
      "source": [
        "def dfs(graph, start, goal):\n",
        "    visited = set()\n",
        "    stack = [start]\n",
        "\n",
        "    while stack:\n",
        "        node = stack.pop()\n",
        "        if node not in visited:\n",
        "            visited.add(node)\n",
        "            if node == goal:\n",
        "                return visited\n",
        "\n",
        "            # Expanding successors in alphabetical order\n",
        "            successors = sorted(graph[node])\n",
        "            for neighbor in successors:\n",
        "                if neighbor not in visited:\n",
        "                    stack.append(neighbor)\n",
        "\n",
        "    return visited\n",
        "\n",
        "graph = {\n",
        "    'S': ['A', 'B', 'C'],\n",
        "    'A': ['C', 'G', 'H'],\n",
        "    'B': [],\n",
        "    'C': ['H'],\n",
        "    'G': ['E'],\n",
        "    'E': [],\n",
        "    'H': ['C', 'D'],\n",
        "    'D': ['F'],\n",
        "    'F': []\n",
        "}\n",
        "\n",
        "start = 'S'\n",
        "goal = 'F'\n",
        "\n",
        "solution = dfs(graph, start, goal)\n",
        "print(\"Solution path:\", solution)"
      ]
    },
    {
      "cell_type": "markdown",
      "source": [
        "**Question 2**\n",
        "\n",
        "Breadth-First Search (BFS) Algorithm\n",
        "\n",
        "Path: S - A - G - E - F\n",
        "\n",
        "Explanation:\n",
        "\n",
        "Start: The search begins at node S.\n",
        "\n",
        "Expansion:\n",
        "\n",
        "S is expanded, and its successors are A and B.\n",
        "\n",
        "A is expanded, and its successor is G.\n",
        "\n",
        "B is expanded, and its successors are C and D.\n",
        "\n",
        "G is expanded, and its successor is E.\n",
        "\n",
        "C, D, and E are expanded, and their successors are F.\n",
        "\n",
        "Goal: F is the goal state, so the search stops."
      ],
      "metadata": {
        "id": "waOhvgXtTZ4K"
      }
    },
    {
      "cell_type": "code",
      "source": [
        "from collections import deque\n",
        "\n",
        "def bfs(graph, start, goal):\n",
        "    queue = deque([start])\n",
        "    visited = {start}\n",
        "    parent = {start: None}\n",
        "\n",
        "    while queue:\n",
        "        node = queue.popleft()\n",
        "\n",
        "        if node == goal:\n",
        "            break\n",
        "\n",
        "        for successor in sorted(graph[node]):\n",
        "            if successor not in visited:\n",
        "                visited.add(successor)\n",
        "                parent[successor] = node\n",
        "                queue.append(successor)\n",
        "\n",
        "    # Reconstruct path\n",
        "    path = []\n",
        "    while node is not None:\n",
        "        path.append(node)\n",
        "        node = parent[node]\n",
        "    return path[::-1]\n",
        "\n",
        "# Example graph representation\n",
        "graph = {\n",
        "    'S': ['A', 'B'],\n",
        "    'A': ['C', 'G', 'H'],\n",
        "    'B': [],\n",
        "    'C': [],\n",
        "    'G': ['E', 'D'],\n",
        "    'H': [],\n",
        "    'E': ['F'],\n",
        "    'D': [],\n",
        "    'F': []\n",
        "}\n",
        "\n",
        "# Call the BFS function\n",
        "solution_path = bfs(graph, 'S', 'F')\n",
        "print(\"Solution Path from S to F:\", solution_path)"
      ],
      "metadata": {
        "colab": {
          "base_uri": "https://localhost:8080/"
        },
        "id": "vTN8tqx0VhLg",
        "outputId": "ff15fbca-59ee-4e2f-dafc-ea1ae84edb5d"
      },
      "execution_count": null,
      "outputs": [
        {
          "output_type": "stream",
          "name": "stdout",
          "text": [
            "Solution Path from S to F: ['S', 'A', 'G', 'E', 'F']\n"
          ]
        }
      ]
    },
    {
      "cell_type": "markdown",
      "source": [
        "**Question 3**\n",
        "\n",
        "Solution Path Using Uniform-Cost Search (UCS)\n",
        "\n",
        "S -> A -> G -> D -> F\n",
        "\n",
        "This path is generated by UCS as it explores the nodes with the lowest cost and then the node that has the least cost to reach the goal node is selected."
      ],
      "metadata": {
        "id": "dRz4Px_tWg5H"
      }
    },
    {
      "cell_type": "code",
      "source": [
        "graph = {\n",
        "    'S': {'A': 3, 'B': 2, 'C': 5},\n",
        "    'A': {'C': 3, 'G': 2, 'H': 4},\n",
        "    'B': {'C': 4},\n",
        "    'C': {'H': 3},\n",
        "    'G': {'E': 5, 'D': 4},\n",
        "    'H': {'D': 4, 'E': 2},\n",
        "    'D': {'F': 3},\n",
        "    'E': {},\n",
        "    'F': {}\n",
        "}\n",
        "\n",
        "import heapq\n",
        "\n",
        "def uniform_cost_search(graph, start, goal):\n",
        "    priority_queue = []\n",
        "    heapq.heappush(priority_queue, (0, start))\n",
        "    visited = set()\n",
        "    came_from = {}\n",
        "    cost_so_far = {start: 0}\n",
        "\n",
        "    while priority_queue:\n",
        "        current_cost, current_node = heapq.heappop(priority_queue)\n",
        "\n",
        "        if current_node in visited:\n",
        "            continue\n",
        "\n",
        "        visited.add(current_node)\n",
        "\n",
        "        if current_node == goal:\n",
        "            break\n",
        "\n",
        "        for neighbor, cost in graph[current_node].items():\n",
        "            new_cost = current_cost + cost\n",
        "            if neighbor not in cost_so_far or new_cost < cost_so_far[neighbor]:\n",
        "                cost_so_far[neighbor] = new_cost\n",
        "                priority_queue.append((new_cost, neighbor))\n",
        "                came_from[neighbor] = current_node\n",
        "\n",
        "    path = []\n",
        "    current = goal\n",
        "    while current in came_from:\n",
        "        path.append(current)\n",
        "        current = came_from[current]\n",
        "    path.append(start)\n",
        "    path.reverse()\n",
        "\n",
        "    return path\n",
        "\n",
        "# Example usage\n",
        "solution_path = uniform_cost_search(graph, 'S', 'F')\n",
        "print(\"Solution Path:\", solution_path)"
      ],
      "metadata": {
        "colab": {
          "base_uri": "https://localhost:8080/"
        },
        "id": "CsOWFs6RWlyS",
        "outputId": "beeb012f-75ec-45b2-dec1-2edcab99c4a3"
      },
      "execution_count": null,
      "outputs": [
        {
          "output_type": "stream",
          "name": "stdout",
          "text": [
            "Solution Path: ['S', 'A', 'G', 'D', 'F']\n"
          ]
        }
      ]
    },
    {
      "cell_type": "markdown",
      "source": [
        "**Question 4**\n",
        "\n",
        "Solution Path from S to F using Greedy Best-First Search\n",
        "\n",
        "**Final Path**\n",
        "\n",
        "Path: S -> A -> G -> E -> F\n",
        "\n",
        "Total Cost: 3 + 2 + 5 + 5 = 15\n",
        "\n",
        "This path demonstrates the efficiency of the Greedy Best-First Search in navigating through the graph based on heuristic values.\n"
      ],
      "metadata": {
        "id": "AcjWRMivYAow"
      }
    },
    {
      "cell_type": "code",
      "source": [
        "import heapq\n",
        "\n",
        "# Define the graph as an adjacency list with heuristic values\n",
        "graph = {\n",
        "    'S': [(3, 'A'), (5, 'B')],\n",
        "    'A': [(2, 'G'), (4, 'H'), (3, 'C')],\n",
        "    'B': [(4, 'C')],\n",
        "    'C': [(3, 'H')],\n",
        "    'G': [(5, 'E'), (4, 'D')],\n",
        "    'H': [(4, 'D'), (3, 'E')],\n",
        "    'D': [(3, 'F')],\n",
        "    'E': [(5, 'F')],\n",
        "    'F': []\n",
        "}\n",
        "\n",
        "# Define the heuristic function using the \"h\" values\n",
        "heuristic = {\n",
        "    'S': 10,\n",
        "    'A': 8,\n",
        "    'B': 9,\n",
        "    'C': 7,\n",
        "    'G': 6,\n",
        "    'H': 6,\n",
        "    'D': 4,\n",
        "    'E': 3,\n",
        "    'F': 0\n",
        "}\n",
        "\n",
        "def greedy_best_first_search(start, goal):\n",
        "    open_list = []\n",
        "    heapq.heappush(open_list, (heuristic[start], start))\n",
        "    came_from = {}\n",
        "\n",
        "    while open_list:\n",
        "        current = heapq.heappop(open_list)[1]\n",
        "\n",
        "        if current == goal:\n",
        "            break\n",
        "\n",
        "        for cost, neighbor in graph[current]:\n",
        "            if neighbor not in came_from:\n",
        "                came_from[neighbor] = current\n",
        "                heapq.heappush(open_list, (heuristic[neighbor], neighbor))\n",
        "\n",
        "    # Reconstruct the path\n",
        "    path = []\n",
        "    while current in came_from:\n",
        "        path.append(current)\n",
        "        current = came_from[current]\n",
        "    path.append(start)\n",
        "    path.reverse()\n",
        "\n",
        "    return path\n",
        "\n",
        "# Execute the search\n",
        "solution_path = greedy_best_first_search('S', 'F')\n",
        "print(\"Solution Path:\", \" -> \".join(solution_path))"
      ],
      "metadata": {
        "colab": {
          "base_uri": "https://localhost:8080/"
        },
        "id": "gRfDJKChb6xy",
        "outputId": "5cec7da0-9d90-409d-bd7b-d13ffb104a95"
      },
      "execution_count": null,
      "outputs": [
        {
          "output_type": "stream",
          "name": "stdout",
          "text": [
            "Solution Path: S -> A -> G -> E -> F\n"
          ]
        }
      ]
    },
    {
      "cell_type": "markdown",
      "source": [
        "**TASK 3**\n",
        "\n",
        "\n",
        "\n",
        "\n",
        "\n",
        "\n"
      ],
      "metadata": {
        "id": "_3xcr__pfceU"
      }
    },
    {
      "cell_type": "code",
      "source": [
        "import time\n",
        "from collections import deque\n",
        "\n",
        "def bfs(maze, start, end):\n",
        "    rows, cols = len(maze), len(maze[0])\n",
        "    queue = deque([start])\n",
        "    visited = set()\n",
        "    visited.add(start)\n",
        "    parent = {start: None}\n",
        "\n",
        "    directions = [(0, 1), (1, 0), (0, -1), (-1, 0)]  # Right, Down, Left, Up\n",
        "\n",
        "    while queue:\n",
        "        current = queue.popleft()\n",
        "\n",
        "        if current == end:\n",
        "            return reconstruct_path(parent, start, end)\n",
        "\n",
        "        for direction in directions:\n",
        "            neighbor = (current[0] + direction[0], current[1] + direction[1])\n",
        "            if (0 <= neighbor[0] < rows and\n",
        "                0 <= neighbor[1] < cols and\n",
        "                maze[neighbor[0]][neighbor[1]] == 0 and\n",
        "                neighbor not in visited):\n",
        "\n",
        "                visited.add(neighbor)\n",
        "                parent[neighbor] = current\n",
        "                queue.append(neighbor)\n",
        "\n",
        "    return None  # No path found\n",
        "\n",
        "\n",
        "def reconstruct_path(parent, start, end):\n",
        "    path = []\n",
        "    current = end\n",
        "    while current is not None:\n",
        "        path.append(current)\n",
        "        current = parent[current]\n",
        "    path.reverse()\n",
        "    return path\n",
        "\n",
        "# complex maze\n",
        "maze = [\n",
        "    [0, 1, 0, 0, 0, 1, 0],\n",
        "    [0, 1, 0, 1, 0, 1, 0],\n",
        "    [0, 0, 0, 1, 0, 0, 0],\n",
        "    [1, 1, 0, 1, 1, 1, 0],\n",
        "    [0, 0, 0, 0, 0, 1, 0],\n",
        "    [1, 1, 1, 1, 0, 1, 0],\n",
        "    [0, 0, 0, 0, 0, 0, 0]\n",
        "]\n",
        "\n",
        "start = (0, 0)\n",
        "end = (6, 6)\n",
        "\n",
        "# Measure BFS execution time\n",
        "start_time = time.time()\n",
        "bfs_path = bfs(maze, start, end)\n",
        "bfs_time = time.time() - start_time\n",
        "print(\"BFS Path:\", bfs_path)\n",
        "print(\"BFS Time: {:.6f} seconds\".format(bfs_time))\n",
        "\n",
        "# Measure DFS execution time\n",
        "start_time = time.time()\n",
        "dfs_path = dfs(maze, start, end)\n",
        "dfs_time = time.time() - start_time\n",
        "print(\"DFS Path:\", dfs_path)\n",
        "print(\"DFS Time: {:.6f} seconds\".format(dfs_time))"
      ],
      "metadata": {
        "colab": {
          "base_uri": "https://localhost:8080/"
        },
        "id": "hVS_AQbMhBT0",
        "outputId": "90271a81-1655-4194-d945-0fa4cec2658f"
      },
      "execution_count": null,
      "outputs": [
        {
          "output_type": "stream",
          "name": "stdout",
          "text": [
            "BFS Path: [(0, 0), (1, 0), (2, 0), (2, 1), (2, 2), (3, 2), (4, 2), (4, 3), (4, 4), (5, 4), (6, 4), (6, 5), (6, 6)]\n",
            "BFS Time: 0.000161 seconds\n",
            "DFS Path: [(0, 0), (1, 0), (2, 0), (2, 1), (2, 2), (1, 2), (0, 2), (0, 3), (0, 4), (1, 4), (2, 4), (2, 5), (2, 6), (3, 6), (4, 6), (5, 6), (6, 6)]\n",
            "DFS Time: 0.000170 seconds\n"
          ]
        }
      ]
    },
    {
      "cell_type": "markdown",
      "source": [
        "**TASK 4**"
      ],
      "metadata": {
        "id": "xBQn0KY4V064"
      }
    },
    {
      "cell_type": "code",
      "source": [
        "import random\n",
        "from collections import deque\n",
        "\n",
        "# Generate a random graph with 1000 nodes\n",
        "def generate_graph(num_nodes, num_edges):\n",
        "    graph = {i: [] for i in range(num_nodes)}\n",
        "    edges = set()\n",
        "\n",
        "    while len(edges) < num_edges:\n",
        "        u = random.randint(0, num_nodes - 1)\n",
        "        v = random.randint(0, num_nodes - 1)\n",
        "        if u != v and (u, v) not in edges and (v, u) not in edges:\n",
        "            graph[u].append(v)\n",
        "            graph[v].append(u)\n",
        "            edges.add((u, v))\n",
        "\n",
        "    return graph\n",
        "\n",
        "# Breadth-First Search (BFS)\n",
        "def bfs(graph, start, goal):\n",
        "    queue = deque([start])\n",
        "    visited = set()\n",
        "    visited.add(start)\n",
        "    parent = {start: None}\n",
        "\n",
        "    while queue:\n",
        "        current = queue.popleft()\n",
        "        if current == goal:\n",
        "            return reconstruct_path(parent, start, goal)\n",
        "\n",
        "        for neighbor in graph[current]:\n",
        "            if neighbor not in visited:\n",
        "                visited.add(neighbor)\n",
        "                parent[neighbor] = current\n",
        "                queue.append(neighbor)\n",
        "\n",
        "    return None  # No path found\n",
        "\n",
        "# Depth-First Search (DFS)\n",
        "def dfs(graph, start, goal, visited=None, parent=None):\n",
        "    if visited is None:\n",
        "        visited = set()\n",
        "    if parent is None:\n",
        "        parent = {start: None}\n",
        "\n",
        "    visited.add(start)\n",
        "\n",
        "    if start == goal:\n",
        "        return reconstruct_path(parent, start, goal)\n",
        "\n",
        "    for neighbor in graph[start]:\n",
        "        if neighbor not in visited:\n",
        "            parent[neighbor] = start\n",
        "            result = dfs(graph, neighbor, goal, visited, parent)\n",
        "            if result is not None:\n",
        "                return result\n",
        "\n",
        "    return None  # No path found\n",
        "\n",
        "# Reconstruct the path from start to goal\n",
        "def reconstruct_path(parent, start, goal):\n",
        "    path = []\n",
        "    current = goal\n",
        "    while current is not None:\n",
        "        path.append(current)\n",
        "        current = parent[current]\n",
        "    path.reverse()\n",
        "    return path\n",
        "\n",
        "# Main execution\n",
        "if __name__ == \"__main__\":\n",
        "    num_nodes = 1000\n",
        "    num_edges = 5000  # Adjust the number of edges as needed\n",
        "    graph = generate_graph(num_nodes, num_edges)\n",
        "\n",
        "    start_node = 0\n",
        "    goal_node = 999\n",
        "\n",
        "    # Perform BFS\n",
        "    bfs_path = bfs(graph, start_node, goal_node)\n",
        "    print(\"BFS Path from {} to {}: {}\".format(start_node, goal_node, bfs_path))\n",
        "\n",
        "    # Perform DFS\n",
        "    dfs_path = dfs(graph, start_node, goal_node)\n",
        "    print(\"DFS Path from {} to {}: {}\".format(start_node, goal_node, dfs_path))"
      ],
      "metadata": {
        "colab": {
          "base_uri": "https://localhost:8080/"
        },
        "id": "qVooBmvrV0LP",
        "outputId": "bf8ef511-69be-47da-b984-7af6f82b5820"
      },
      "execution_count": 2,
      "outputs": [
        {
          "output_type": "stream",
          "name": "stdout",
          "text": [
            "BFS Path from 0 to 999: [0, 234, 394, 417, 999]\n",
            "DFS Path from 0 to 999: [0, 234, 807, 560, 98, 575, 887, 276, 616, 651, 870, 157, 824, 746, 211, 641, 976, 716, 302, 712, 487, 477, 684, 319, 147, 525, 95, 166, 45, 142, 476, 784, 627, 248, 309, 781, 396, 921, 936, 913, 100, 9, 360, 974, 299, 398, 790, 702, 484, 180, 488, 851, 896, 128, 422, 654, 291, 538, 499, 8, 835, 312, 247, 841, 119, 660, 389, 642, 573, 949, 582, 377, 55, 791, 780, 958, 76, 93, 175, 804, 713, 692, 402, 759, 635, 607, 658, 465, 549, 794, 11, 483, 72, 409, 715, 608, 210, 924, 914, 567, 375, 156, 797, 326, 646, 199, 586, 970, 116, 686, 810, 94, 803, 762, 906, 160, 459, 28, 38, 621, 392, 42, 442, 144, 275, 596, 909, 922, 559, 358, 952, 821, 831, 189, 303, 400, 948, 926, 502, 548, 649, 67, 734, 714, 542, 839, 435, 403, 722, 352, 273, 597, 768, 978, 509, 449, 84, 171, 369, 191, 54, 22, 876, 288, 513, 593, 438, 739, 107, 771, 472, 441, 858, 910, 230, 891, 316, 927, 744, 455, 788, 345, 613, 395, 222, 481, 480, 589, 233, 902, 815, 987, 429, 775, 452, 87, 544, 700, 919, 626, 30, 956, 10, 173, 196, 223, 368, 240, 188, 879, 134, 798, 237, 25, 333, 840, 339, 404, 458, 192, 992, 526, 300, 866, 528, 328, 132, 320, 568, 867, 585, 170, 707, 832, 242, 473, 212, 917, 688, 81, 880, 724, 346, 671, 943, 15, 124, 818, 980, 14, 123, 828, 697, 97, 106, 130, 837, 257, 960, 259, 463, 271, 18, 225, 665, 1, 674, 587, 850, 486, 5, 183, 121, 540, 770, 855, 773, 232, 565, 694, 17, 373, 763, 806, 131, 754, 844, 489, 776, 202, 282, 23, 145, 967, 338, 423, 954, 109, 769, 380, 663, 200, 561, 701, 749, 323, 519, 474, 639, 543, 468, 699, 407, 529, 164, 405, 572, 3, 975, 735, 148, 563, 532, 301, 928, 399, 590, 466, 293, 176, 576, 637, 737, 101, 281, 329, 930, 143, 689, 558, 290, 464, 141, 741, 324, 645, 941, 475, 61, 75, 229, 219, 979, 580, 440, 325, 826, 20, 629, 539, 298, 162, 261, 758, 521, 710, 348, 718, 583, 376, 413, 231, 865, 378, 859, 182, 903, 690, 631, 390, 391, 154, 450, 847, 986, 504, 416, 204, 767, 748, 620, 923, 904, 647, 412, 453, 297, 995, 772, 263, 785, 977, 114, 314, 852, 330, 32, 254, 507, 830, 92, 740, 457, 782, 394, 51, 897, 208, 574, 179, 386, 503, 778, 245, 4, 988, 950, 350, 679, 80, 964, 317, 661, 340, 989, 482, 354, 738, 444, 456, 105, 899, 102, 942, 70, 506, 650, 915, 998, 533, 336, 53, 591, 361, 972, 736, 19, 304, 678, 668, 971, 730, 244, 569, 57, 672, 554, 91, 89, 284, 31, 634, 35, 462, 151, 24, 280, 335, 220, 838, 427, 720, 890, 894, 681, 676, 664, 251, 113, 728, 88, 869, 873, 126, 112, 27, 845, 510, 662, 811, 383, 209, 615, 594, 384, 520, 371, 836, 732, 213, 359, 253, 843, 216, 274, 993, 278, 623, 252, 36, 258, 430, 461, 177, 545, 79, 6, 152, 492, 342, 153, 622, 566, 235, 115, 260, 65, 632, 108, 900, 516, 687, 963, 490, 365, 120, 614, 138, 618, 43, 802, 431, 460, 727, 551, 966, 606, 494, 756, 996, 454, 118, 448, 757, 882, 527, 99, 760, 842, 711, 140, 239, 266, 149, 823, 853, 285, 184, 167, 198, 955, 201, 52, 907, 364, 68, 505, 555, 195, 267, 581, 83, 905, 172, 347, 783, 777, 217, 885, 185, 592, 279, 243, 469, 401, 588, 497, 305, 296, 470, 122, 939, 612, 801, 800, 984, 920, 742, 367, 85, 814, 536, 165, 731, 911, 127, 321, 908, 981, 751, 446, 884, 62, 370, 706, 892, 420, 752, 792, 733, 969, 624, 846, 21, 579, 96, 493, 953, 71, 535, 86, 174, 366, 190, 310, 517, 946, 571, 146, 708, 16, 337, 524, 428, 895, 478, 110, 648, 277, 945, 437, 577, 341, 41, 379, 306, 445, 934, 820, 812, 66, 59, 925, 221, 578, 397, 215, 962, 318, 111, 272, 704, 443, 959, 406, 60, 705, 673, 356, 912, 994, 933, 381, 313, 604, 617, 721, 269, 353, 485, 893, 564, 434, 957, 875, 863, 133, 680, 289, 562, 961, 103, 685, 779, 343, 537, 595, 117, 58, 868, 408, 523, 214, 652, 795, 186, 546, 374, 410, 344, 766, 496, 351, 602, 357, 362, 73, 511, 643, 388, 640, 387, 947, 888, 33, 761, 270, 817, 809, 181, 793, 203, 39, 250, 856, 877, 150, 74, 878, 187, 40, 999]\n"
          ]
        }
      ]
    }
  ]
}